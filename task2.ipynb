{
 "cells": [
  {
   "cell_type": "code",
   "execution_count": 1,
   "metadata": {},
   "outputs": [],
   "source": [
    "from numpy import *\n",
    "import scipy.linalg\n",
    "\n",
    "a = array([[1,2,3], [4,5,6]])"
   ]
  },
  {
   "cell_type": "code",
   "execution_count": 2,
   "metadata": {},
   "outputs": [
    {
     "data": {
      "text/plain": [
       "2"
      ]
     },
     "execution_count": 2,
     "metadata": {},
     "output_type": "execute_result"
    }
   ],
   "source": [
    "a.ndim"
   ]
  },
  {
   "cell_type": "code",
   "execution_count": 3,
   "metadata": {},
   "outputs": [
    {
     "data": {
      "text/plain": [
       "6"
      ]
     },
     "execution_count": 3,
     "metadata": {},
     "output_type": "execute_result"
    }
   ],
   "source": [
    "a.size"
   ]
  },
  {
   "cell_type": "code",
   "execution_count": 4,
   "metadata": {},
   "outputs": [
    {
     "data": {
      "text/plain": [
       "(2, 3)"
      ]
     },
     "execution_count": 4,
     "metadata": {},
     "output_type": "execute_result"
    }
   ],
   "source": [
    "a.shape"
   ]
  },
  {
   "cell_type": "code",
   "execution_count": 5,
   "metadata": {},
   "outputs": [
    {
     "data": {
      "text/plain": [
       "3"
      ]
     },
     "execution_count": 5,
     "metadata": {},
     "output_type": "execute_result"
    }
   ],
   "source": [
    "a.shape[2 - 1]"
   ]
  },
  {
   "cell_type": "code",
   "execution_count": 6,
   "metadata": {},
   "outputs": [
    {
     "data": {
      "text/plain": [
       "array([[1., 2., 3.],\n",
       "       [4., 5., 6.]])"
      ]
     },
     "execution_count": 6,
     "metadata": {},
     "output_type": "execute_result"
    }
   ],
   "source": [
    "array([[1.,2.,3.], [4.,5.,6.]])"
   ]
  },
  {
   "cell_type": "code",
   "execution_count": 7,
   "metadata": {},
   "outputs": [
    {
     "data": {
      "text/plain": [
       "array([[ 1,  2,  3,  7,  8],\n",
       "       [ 4,  5,  6,  9, 10],\n",
       "       [11, 12, 13, 14, 15]])"
      ]
     },
     "execution_count": 7,
     "metadata": {},
     "output_type": "execute_result"
    }
   ],
   "source": [
    "a = array([[1,2,3], [4,5,6]])\n",
    "b = array([[7,8], [9,10]])\n",
    "c = array([11,12,13])\n",
    "d = array([14,15])\n",
    "block([[a,b], [c,d]])"
   ]
  },
  {
   "cell_type": "code",
   "execution_count": 8,
   "metadata": {},
   "outputs": [
    {
     "data": {
      "text/plain": [
       "3"
      ]
     },
     "execution_count": 8,
     "metadata": {},
     "output_type": "execute_result"
    }
   ],
   "source": [
    "a = array([1,2,3])\n",
    "a[-1]"
   ]
  },
  {
   "cell_type": "code",
   "execution_count": 9,
   "metadata": {},
   "outputs": [
    {
     "data": {
      "text/plain": [
       "8.0"
      ]
     },
     "execution_count": 9,
     "metadata": {},
     "output_type": "execute_result"
    }
   ],
   "source": [
    "a = array([[1.,2.,3.,4.,5.], [4.,5.,6.,7.,8.]])\n",
    "a[1,4]"
   ]
  },
  {
   "cell_type": "code",
   "execution_count": 10,
   "metadata": {},
   "outputs": [
    {
     "data": {
      "text/plain": [
       "array([4., 5., 6., 7., 8.])"
      ]
     },
     "execution_count": 10,
     "metadata": {},
     "output_type": "execute_result"
    }
   ],
   "source": [
    "a[1]"
   ]
  },
  {
   "cell_type": "code",
   "execution_count": 11,
   "metadata": {},
   "outputs": [
    {
     "data": {
      "text/plain": [
       "array([[0.11091346, 0.18813278, 0.38886451, 0.01564434, 0.65630107,\n",
       "        0.89487869, 0.39196738, 0.65118397, 0.38013103, 0.38642712],\n",
       "       [0.0615329 , 0.05491462, 0.6786101 , 0.34833783, 0.86622937,\n",
       "        0.65896189, 0.21668015, 0.84099304, 0.77314152, 0.78416086],\n",
       "       [0.47623283, 0.45202318, 0.50298568, 0.77562004, 0.86088117,\n",
       "        0.02823798, 0.58613231, 0.24811471, 0.41465849, 0.86202428],\n",
       "       [0.63603256, 0.22084435, 0.29374814, 0.73921845, 0.0314483 ,\n",
       "        0.8692037 , 0.56419239, 0.22057753, 0.90365472, 0.47762319],\n",
       "       [0.55111013, 0.58163412, 0.30764424, 0.41473802, 0.44558266,\n",
       "        0.42453037, 0.20664003, 0.24016248, 0.20636133, 0.22098645]])"
      ]
     },
     "execution_count": 11,
     "metadata": {},
     "output_type": "execute_result"
    }
   ],
   "source": [
    "a = random.rand(10,10)\n",
    "a[0:5]"
   ]
  },
  {
   "cell_type": "code",
   "execution_count": 12,
   "metadata": {},
   "outputs": [
    {
     "data": {
      "text/plain": [
       "array([[0.39505558, 0.29493683, 0.124675  , 0.22400932, 0.67976444,\n",
       "        0.99289604, 0.68005499, 0.97099117, 0.6125787 , 0.22213548],\n",
       "       [0.76810448, 0.9693669 , 0.02677607, 0.59034354, 0.75207725,\n",
       "        0.00545877, 0.45787451, 0.19228036, 0.89006725, 0.21702255],\n",
       "       [0.40432123, 0.26661213, 0.85981907, 0.17463352, 0.12920083,\n",
       "        0.46072097, 0.7191831 , 0.21069979, 0.1447597 , 0.10630844],\n",
       "       [0.65668841, 0.45894297, 0.15306643, 0.31711827, 0.12957445,\n",
       "        0.9381938 , 0.49013859, 0.71316851, 0.32307456, 0.4583544 ],\n",
       "       [0.78164092, 0.54655258, 0.80033144, 0.53147133, 0.32622476,\n",
       "        0.26039577, 0.31101405, 0.31345462, 0.96317355, 0.09404395]])"
      ]
     },
     "execution_count": 12,
     "metadata": {},
     "output_type": "execute_result"
    }
   ],
   "source": [
    "a = random.rand(10,10)\n",
    "a[-5:]"
   ]
  },
  {
   "cell_type": "code",
   "execution_count": 13,
   "metadata": {},
   "outputs": [
    {
     "data": {
      "text/plain": [
       "array([[0.30940937, 0.21808411, 0.79814726, 0.35993621, 0.05813967],\n",
       "       [0.93532383, 0.01972792, 0.66321781, 0.78896412, 0.3488759 ],\n",
       "       [0.40320558, 0.43492525, 0.07858936, 0.80535221, 0.5886861 ]])"
      ]
     },
     "execution_count": 13,
     "metadata": {},
     "output_type": "execute_result"
    }
   ],
   "source": [
    "a[0:3][:,4:9]"
   ]
  },
  {
   "cell_type": "code",
   "execution_count": 14,
   "metadata": {},
   "outputs": [
    {
     "data": {
      "text/plain": [
       "array([[0.87517631, 0.22576506],\n",
       "       [0.22277763, 0.24092253],\n",
       "       [0.27943868, 0.31206781]])"
      ]
     },
     "execution_count": 14,
     "metadata": {},
     "output_type": "execute_result"
    }
   ],
   "source": [
    "a[ix_([1,3,4],[0,2])]"
   ]
  },
  {
   "cell_type": "code",
   "execution_count": 15,
   "metadata": {},
   "outputs": [
    {
     "data": {
      "text/plain": [
       "array([[0.3640264 , 0.06822797, 0.19762853, 0.38564732, 0.30940937,\n",
       "        0.21808411, 0.79814726, 0.35993621, 0.05813967, 0.5303719 ],\n",
       "       [0.41857048, 0.51787955, 0.98122613, 0.49356253, 0.40320558,\n",
       "        0.43492525, 0.07858936, 0.80535221, 0.5886861 , 0.6635198 ],\n",
       "       [0.27943868, 0.86686448, 0.31206781, 0.98441533, 0.67002055,\n",
       "        0.274018  , 0.57017336, 0.57793346, 0.79752976, 0.37539037]])"
      ]
     },
     "execution_count": 15,
     "metadata": {},
     "output_type": "execute_result"
    }
   ],
   "source": [
    "a[0:5:2,:]"
   ]
  },
  {
   "cell_type": "code",
   "execution_count": 16,
   "metadata": {},
   "outputs": [
    {
     "data": {
      "text/plain": [
       "array([[0.3640264 , 0.06822797, 0.19762853, 0.38564732, 0.30940937,\n",
       "        0.21808411, 0.79814726, 0.35993621, 0.05813967, 0.5303719 ],\n",
       "       [0.41857048, 0.51787955, 0.98122613, 0.49356253, 0.40320558,\n",
       "        0.43492525, 0.07858936, 0.80535221, 0.5886861 , 0.6635198 ],\n",
       "       [0.27943868, 0.86686448, 0.31206781, 0.98441533, 0.67002055,\n",
       "        0.274018  , 0.57017336, 0.57793346, 0.79752976, 0.37539037],\n",
       "       [0.76810448, 0.9693669 , 0.02677607, 0.59034354, 0.75207725,\n",
       "        0.00545877, 0.45787451, 0.19228036, 0.89006725, 0.21702255],\n",
       "       [0.65668841, 0.45894297, 0.15306643, 0.31711827, 0.12957445,\n",
       "        0.9381938 , 0.49013859, 0.71316851, 0.32307456, 0.4583544 ]])"
      ]
     },
     "execution_count": 16,
     "metadata": {},
     "output_type": "execute_result"
    }
   ],
   "source": [
    "a[ ::2,:]"
   ]
  },
  {
   "cell_type": "code",
   "execution_count": 17,
   "metadata": {},
   "outputs": [
    {
     "data": {
      "text/plain": [
       "array([[0.78164092, 0.54655258, 0.80033144, 0.53147133, 0.32622476,\n",
       "        0.26039577, 0.31101405, 0.31345462, 0.96317355, 0.09404395],\n",
       "       [0.65668841, 0.45894297, 0.15306643, 0.31711827, 0.12957445,\n",
       "        0.9381938 , 0.49013859, 0.71316851, 0.32307456, 0.4583544 ],\n",
       "       [0.40432123, 0.26661213, 0.85981907, 0.17463352, 0.12920083,\n",
       "        0.46072097, 0.7191831 , 0.21069979, 0.1447597 , 0.10630844],\n",
       "       [0.76810448, 0.9693669 , 0.02677607, 0.59034354, 0.75207725,\n",
       "        0.00545877, 0.45787451, 0.19228036, 0.89006725, 0.21702255],\n",
       "       [0.39505558, 0.29493683, 0.124675  , 0.22400932, 0.67976444,\n",
       "        0.99289604, 0.68005499, 0.97099117, 0.6125787 , 0.22213548],\n",
       "       [0.27943868, 0.86686448, 0.31206781, 0.98441533, 0.67002055,\n",
       "        0.274018  , 0.57017336, 0.57793346, 0.79752976, 0.37539037],\n",
       "       [0.22277763, 0.16619594, 0.24092253, 0.53462511, 0.73634431,\n",
       "        0.21913135, 0.38333461, 0.07744886, 0.25468506, 0.92797269],\n",
       "       [0.41857048, 0.51787955, 0.98122613, 0.49356253, 0.40320558,\n",
       "        0.43492525, 0.07858936, 0.80535221, 0.5886861 , 0.6635198 ],\n",
       "       [0.87517631, 0.71187758, 0.22576506, 0.33905685, 0.93532383,\n",
       "        0.01972792, 0.66321781, 0.78896412, 0.3488759 , 0.37721113],\n",
       "       [0.3640264 , 0.06822797, 0.19762853, 0.38564732, 0.30940937,\n",
       "        0.21808411, 0.79814726, 0.35993621, 0.05813967, 0.5303719 ]])"
      ]
     },
     "execution_count": 17,
     "metadata": {},
     "output_type": "execute_result"
    }
   ],
   "source": [
    "a[ ::-1,:]"
   ]
  },
  {
   "cell_type": "code",
   "execution_count": 18,
   "metadata": {},
   "outputs": [
    {
     "data": {
      "text/plain": [
       "array([[0.3640264 , 0.06822797, 0.19762853, 0.38564732, 0.30940937,\n",
       "        0.21808411, 0.79814726, 0.35993621, 0.05813967, 0.5303719 ],\n",
       "       [0.87517631, 0.71187758, 0.22576506, 0.33905685, 0.93532383,\n",
       "        0.01972792, 0.66321781, 0.78896412, 0.3488759 , 0.37721113],\n",
       "       [0.41857048, 0.51787955, 0.98122613, 0.49356253, 0.40320558,\n",
       "        0.43492525, 0.07858936, 0.80535221, 0.5886861 , 0.6635198 ],\n",
       "       [0.22277763, 0.16619594, 0.24092253, 0.53462511, 0.73634431,\n",
       "        0.21913135, 0.38333461, 0.07744886, 0.25468506, 0.92797269],\n",
       "       [0.27943868, 0.86686448, 0.31206781, 0.98441533, 0.67002055,\n",
       "        0.274018  , 0.57017336, 0.57793346, 0.79752976, 0.37539037],\n",
       "       [0.39505558, 0.29493683, 0.124675  , 0.22400932, 0.67976444,\n",
       "        0.99289604, 0.68005499, 0.97099117, 0.6125787 , 0.22213548],\n",
       "       [0.76810448, 0.9693669 , 0.02677607, 0.59034354, 0.75207725,\n",
       "        0.00545877, 0.45787451, 0.19228036, 0.89006725, 0.21702255],\n",
       "       [0.40432123, 0.26661213, 0.85981907, 0.17463352, 0.12920083,\n",
       "        0.46072097, 0.7191831 , 0.21069979, 0.1447597 , 0.10630844],\n",
       "       [0.65668841, 0.45894297, 0.15306643, 0.31711827, 0.12957445,\n",
       "        0.9381938 , 0.49013859, 0.71316851, 0.32307456, 0.4583544 ],\n",
       "       [0.78164092, 0.54655258, 0.80033144, 0.53147133, 0.32622476,\n",
       "        0.26039577, 0.31101405, 0.31345462, 0.96317355, 0.09404395],\n",
       "       [0.3640264 , 0.06822797, 0.19762853, 0.38564732, 0.30940937,\n",
       "        0.21808411, 0.79814726, 0.35993621, 0.05813967, 0.5303719 ]])"
      ]
     },
     "execution_count": 18,
     "metadata": {},
     "output_type": "execute_result"
    }
   ],
   "source": [
    "a[r_[:len(a),0]]"
   ]
  },
  {
   "cell_type": "code",
   "execution_count": 19,
   "metadata": {},
   "outputs": [
    {
     "data": {
      "text/plain": [
       "array([[0.3640264 , 0.87517631, 0.41857048, 0.22277763, 0.27943868,\n",
       "        0.39505558, 0.76810448, 0.40432123, 0.65668841, 0.78164092],\n",
       "       [0.06822797, 0.71187758, 0.51787955, 0.16619594, 0.86686448,\n",
       "        0.29493683, 0.9693669 , 0.26661213, 0.45894297, 0.54655258],\n",
       "       [0.19762853, 0.22576506, 0.98122613, 0.24092253, 0.31206781,\n",
       "        0.124675  , 0.02677607, 0.85981907, 0.15306643, 0.80033144],\n",
       "       [0.38564732, 0.33905685, 0.49356253, 0.53462511, 0.98441533,\n",
       "        0.22400932, 0.59034354, 0.17463352, 0.31711827, 0.53147133],\n",
       "       [0.30940937, 0.93532383, 0.40320558, 0.73634431, 0.67002055,\n",
       "        0.67976444, 0.75207725, 0.12920083, 0.12957445, 0.32622476],\n",
       "       [0.21808411, 0.01972792, 0.43492525, 0.21913135, 0.274018  ,\n",
       "        0.99289604, 0.00545877, 0.46072097, 0.9381938 , 0.26039577],\n",
       "       [0.79814726, 0.66321781, 0.07858936, 0.38333461, 0.57017336,\n",
       "        0.68005499, 0.45787451, 0.7191831 , 0.49013859, 0.31101405],\n",
       "       [0.35993621, 0.78896412, 0.80535221, 0.07744886, 0.57793346,\n",
       "        0.97099117, 0.19228036, 0.21069979, 0.71316851, 0.31345462],\n",
       "       [0.05813967, 0.3488759 , 0.5886861 , 0.25468506, 0.79752976,\n",
       "        0.6125787 , 0.89006725, 0.1447597 , 0.32307456, 0.96317355],\n",
       "       [0.5303719 , 0.37721113, 0.6635198 , 0.92797269, 0.37539037,\n",
       "        0.22213548, 0.21702255, 0.10630844, 0.4583544 , 0.09404395]])"
      ]
     },
     "execution_count": 19,
     "metadata": {},
     "output_type": "execute_result"
    }
   ],
   "source": [
    "a.T"
   ]
  },
  {
   "cell_type": "code",
   "execution_count": 20,
   "metadata": {},
   "outputs": [
    {
     "data": {
      "text/plain": [
       "array([[0.3640264 , 0.87517631, 0.41857048, 0.22277763, 0.27943868,\n",
       "        0.39505558, 0.76810448, 0.40432123, 0.65668841, 0.78164092],\n",
       "       [0.06822797, 0.71187758, 0.51787955, 0.16619594, 0.86686448,\n",
       "        0.29493683, 0.9693669 , 0.26661213, 0.45894297, 0.54655258],\n",
       "       [0.19762853, 0.22576506, 0.98122613, 0.24092253, 0.31206781,\n",
       "        0.124675  , 0.02677607, 0.85981907, 0.15306643, 0.80033144],\n",
       "       [0.38564732, 0.33905685, 0.49356253, 0.53462511, 0.98441533,\n",
       "        0.22400932, 0.59034354, 0.17463352, 0.31711827, 0.53147133],\n",
       "       [0.30940937, 0.93532383, 0.40320558, 0.73634431, 0.67002055,\n",
       "        0.67976444, 0.75207725, 0.12920083, 0.12957445, 0.32622476],\n",
       "       [0.21808411, 0.01972792, 0.43492525, 0.21913135, 0.274018  ,\n",
       "        0.99289604, 0.00545877, 0.46072097, 0.9381938 , 0.26039577],\n",
       "       [0.79814726, 0.66321781, 0.07858936, 0.38333461, 0.57017336,\n",
       "        0.68005499, 0.45787451, 0.7191831 , 0.49013859, 0.31101405],\n",
       "       [0.35993621, 0.78896412, 0.80535221, 0.07744886, 0.57793346,\n",
       "        0.97099117, 0.19228036, 0.21069979, 0.71316851, 0.31345462],\n",
       "       [0.05813967, 0.3488759 , 0.5886861 , 0.25468506, 0.79752976,\n",
       "        0.6125787 , 0.89006725, 0.1447597 , 0.32307456, 0.96317355],\n",
       "       [0.5303719 , 0.37721113, 0.6635198 , 0.92797269, 0.37539037,\n",
       "        0.22213548, 0.21702255, 0.10630844, 0.4583544 , 0.09404395]])"
      ]
     },
     "execution_count": 20,
     "metadata": {},
     "output_type": "execute_result"
    }
   ],
   "source": [
    "a.conj().T"
   ]
  },
  {
   "cell_type": "code",
   "execution_count": 21,
   "metadata": {},
   "outputs": [
    {
     "data": {
      "text/plain": [
       "array([[19, 22],\n",
       "       [43, 50]])"
      ]
     },
     "execution_count": 21,
     "metadata": {},
     "output_type": "execute_result"
    }
   ],
   "source": [
    "a = array([[1,2],[3,4]])\n",
    "b = array([[5,6],[7,8]])\n",
    "a @ b"
   ]
  },
  {
   "cell_type": "code",
   "execution_count": 22,
   "metadata": {},
   "outputs": [
    {
     "data": {
      "text/plain": [
       "array([[ 5, 12],\n",
       "       [21, 32]])"
      ]
     },
     "execution_count": 22,
     "metadata": {},
     "output_type": "execute_result"
    }
   ],
   "source": [
    "a * b"
   ]
  },
  {
   "cell_type": "code",
   "execution_count": 23,
   "metadata": {},
   "outputs": [
    {
     "data": {
      "text/plain": [
       "array([[0.2       , 0.33333333],\n",
       "       [0.42857143, 0.5       ]])"
      ]
     },
     "execution_count": 23,
     "metadata": {},
     "output_type": "execute_result"
    }
   ],
   "source": [
    "a / b"
   ]
  },
  {
   "cell_type": "code",
   "execution_count": 24,
   "metadata": {},
   "outputs": [
    {
     "data": {
      "text/plain": [
       "array([[ 1,  8],\n",
       "       [27, 64]])"
      ]
     },
     "execution_count": 24,
     "metadata": {},
     "output_type": "execute_result"
    }
   ],
   "source": [
    "a ** 3"
   ]
  },
  {
   "cell_type": "code",
   "execution_count": 25,
   "metadata": {},
   "outputs": [
    {
     "data": {
      "text/plain": [
       "array([[False,  True],\n",
       "       [ True,  True]])"
      ]
     },
     "execution_count": 25,
     "metadata": {},
     "output_type": "execute_result"
    }
   ],
   "source": [
    "(a > 1)"
   ]
  },
  {
   "cell_type": "code",
   "execution_count": 26,
   "metadata": {},
   "outputs": [
    {
     "data": {
      "text/plain": [
       "(array([0, 1, 1]), array([1, 0, 1]))"
      ]
     },
     "execution_count": 26,
     "metadata": {},
     "output_type": "execute_result"
    }
   ],
   "source": [
    "nonzero(a > 1)"
   ]
  },
  {
   "cell_type": "code",
   "execution_count": 28,
   "metadata": {},
   "outputs": [
    {
     "data": {
      "text/plain": [
       "array([[1, 2, 2],\n",
       "       [3, 4, 4]])"
      ]
     },
     "execution_count": 28,
     "metadata": {},
     "output_type": "execute_result"
    }
   ],
   "source": [
    "a[:,nonzero(a > 1)[0]]"
   ]
  },
  {
   "cell_type": "code",
   "execution_count": 33,
   "metadata": {},
   "outputs": [
    {
     "data": {
      "text/plain": [
       "array([[2],\n",
       "       [4]])"
      ]
     },
     "execution_count": 33,
     "metadata": {},
     "output_type": "execute_result"
    }
   ],
   "source": [
    "a[:,(a.T > 1)[0]]"
   ]
  },
  {
   "cell_type": "code",
   "execution_count": 34,
   "metadata": {},
   "outputs": [],
   "source": [
    "a[a < 1] = 0"
   ]
  },
  {
   "cell_type": "code",
   "execution_count": 35,
   "metadata": {},
   "outputs": [
    {
     "data": {
      "text/plain": [
       "array([[1, 2],\n",
       "       [3, 4]])"
      ]
     },
     "execution_count": 35,
     "metadata": {},
     "output_type": "execute_result"
    }
   ],
   "source": [
    "a * (a>0.5)"
   ]
  },
  {
   "cell_type": "code",
   "execution_count": 36,
   "metadata": {},
   "outputs": [
    {
     "data": {
      "text/plain": [
       "array([[3, 3],\n",
       "       [3, 3]])"
      ]
     },
     "execution_count": 36,
     "metadata": {},
     "output_type": "execute_result"
    }
   ],
   "source": [
    "a[:] = 3\n",
    "a"
   ]
  },
  {
   "cell_type": "code",
   "execution_count": 37,
   "metadata": {},
   "outputs": [
    {
     "data": {
      "text/plain": [
       "array([[3, 3],\n",
       "       [3, 3]])"
      ]
     },
     "execution_count": 37,
     "metadata": {},
     "output_type": "execute_result"
    }
   ],
   "source": [
    "y = a.copy()\n",
    "y"
   ]
  },
  {
   "cell_type": "code",
   "execution_count": 39,
   "metadata": {},
   "outputs": [
    {
     "data": {
      "text/plain": [
       "array([3, 3])"
      ]
     },
     "execution_count": 39,
     "metadata": {},
     "output_type": "execute_result"
    }
   ],
   "source": [
    "y = a[1,:].copy()\n",
    "y"
   ]
  },
  {
   "cell_type": "code",
   "execution_count": 40,
   "metadata": {},
   "outputs": [
    {
     "data": {
      "text/plain": [
       "array([3, 3, 3, 3])"
      ]
     },
     "execution_count": 40,
     "metadata": {},
     "output_type": "execute_result"
    }
   ],
   "source": [
    "y = a.flatten()\n",
    "y"
   ]
  },
  {
   "cell_type": "code",
   "execution_count": 41,
   "metadata": {},
   "outputs": [
    {
     "data": {
      "text/plain": [
       "array([ 1.,  2.,  3.,  4.,  5.,  6.,  7.,  8.,  9., 10.])"
      ]
     },
     "execution_count": 41,
     "metadata": {},
     "output_type": "execute_result"
    }
   ],
   "source": [
    "arange(1.,11.)"
   ]
  },
  {
   "cell_type": "code",
   "execution_count": 42,
   "metadata": {},
   "outputs": [
    {
     "data": {
      "text/plain": [
       "array([0., 1., 2., 3., 4., 5., 6., 7., 8., 9.])"
      ]
     },
     "execution_count": 42,
     "metadata": {},
     "output_type": "execute_result"
    }
   ],
   "source": [
    "arange(10.)"
   ]
  },
  {
   "cell_type": "code",
   "execution_count": 43,
   "metadata": {},
   "outputs": [
    {
     "data": {
      "text/plain": [
       "array([[ 1.],\n",
       "       [ 2.],\n",
       "       [ 3.],\n",
       "       [ 4.],\n",
       "       [ 5.],\n",
       "       [ 6.],\n",
       "       [ 7.],\n",
       "       [ 8.],\n",
       "       [ 9.],\n",
       "       [10.]])"
      ]
     },
     "execution_count": 43,
     "metadata": {},
     "output_type": "execute_result"
    }
   ],
   "source": [
    "arange(1.,11.)[:, newaxis]"
   ]
  },
  {
   "cell_type": "code",
   "execution_count": 44,
   "metadata": {},
   "outputs": [
    {
     "data": {
      "text/plain": [
       "array([[0., 0., 0., 0.],\n",
       "       [0., 0., 0., 0.],\n",
       "       [0., 0., 0., 0.]])"
      ]
     },
     "execution_count": 44,
     "metadata": {},
     "output_type": "execute_result"
    }
   ],
   "source": [
    "zeros((3,4))"
   ]
  },
  {
   "cell_type": "code",
   "execution_count": 45,
   "metadata": {},
   "outputs": [
    {
     "data": {
      "text/plain": [
       "array([[[0., 0., 0., 0., 0.],\n",
       "        [0., 0., 0., 0., 0.],\n",
       "        [0., 0., 0., 0., 0.],\n",
       "        [0., 0., 0., 0., 0.]],\n",
       "\n",
       "       [[0., 0., 0., 0., 0.],\n",
       "        [0., 0., 0., 0., 0.],\n",
       "        [0., 0., 0., 0., 0.],\n",
       "        [0., 0., 0., 0., 0.]],\n",
       "\n",
       "       [[0., 0., 0., 0., 0.],\n",
       "        [0., 0., 0., 0., 0.],\n",
       "        [0., 0., 0., 0., 0.],\n",
       "        [0., 0., 0., 0., 0.]]])"
      ]
     },
     "execution_count": 45,
     "metadata": {},
     "output_type": "execute_result"
    }
   ],
   "source": [
    "zeros((3,4,5))"
   ]
  },
  {
   "cell_type": "code",
   "execution_count": 46,
   "metadata": {},
   "outputs": [
    {
     "data": {
      "text/plain": [
       "array([[1., 1., 1., 1.],\n",
       "       [1., 1., 1., 1.],\n",
       "       [1., 1., 1., 1.]])"
      ]
     },
     "execution_count": 46,
     "metadata": {},
     "output_type": "execute_result"
    }
   ],
   "source": [
    "ones((3,4))"
   ]
  },
  {
   "cell_type": "code",
   "execution_count": 47,
   "metadata": {},
   "outputs": [
    {
     "data": {
      "text/plain": [
       "array([[1., 0., 0.],\n",
       "       [0., 1., 0.],\n",
       "       [0., 0., 1.]])"
      ]
     },
     "execution_count": 47,
     "metadata": {},
     "output_type": "execute_result"
    }
   ],
   "source": [
    "eye(3)"
   ]
  },
  {
   "cell_type": "code",
   "execution_count": 48,
   "metadata": {},
   "outputs": [
    {
     "data": {
      "text/plain": [
       "array([3, 3])"
      ]
     },
     "execution_count": 48,
     "metadata": {},
     "output_type": "execute_result"
    }
   ],
   "source": [
    "diag(a)"
   ]
  },
  {
   "cell_type": "code",
   "execution_count": 49,
   "metadata": {},
   "outputs": [
    {
     "data": {
      "text/plain": [
       "array([3, 3])"
      ]
     },
     "execution_count": 49,
     "metadata": {},
     "output_type": "execute_result"
    }
   ],
   "source": [
    "diag(a,0)"
   ]
  },
  {
   "cell_type": "code",
   "execution_count": 50,
   "metadata": {},
   "outputs": [
    {
     "data": {
      "text/plain": [
       "array([[0.47145052, 0.34461856, 0.28743758, 0.89729863],\n",
       "       [0.6419616 , 0.81955975, 0.03043099, 0.74595539],\n",
       "       [0.36148784, 0.2204665 , 0.53011759, 0.10057815]])"
      ]
     },
     "execution_count": 50,
     "metadata": {},
     "output_type": "execute_result"
    }
   ],
   "source": [
    "random.rand(3,4)"
   ]
  },
  {
   "cell_type": "code",
   "execution_count": 51,
   "metadata": {},
   "outputs": [
    {
     "data": {
      "text/plain": [
       "array([1.        , 1.66666667, 2.33333333, 3.        ])"
      ]
     },
     "execution_count": 51,
     "metadata": {},
     "output_type": "execute_result"
    }
   ],
   "source": [
    "linspace(1,3,4)"
   ]
  },
  {
   "cell_type": "code",
   "execution_count": 52,
   "metadata": {},
   "outputs": [
    {
     "data": {
      "text/plain": [
       "array([[[0., 0., 0., 0., 0., 0.],\n",
       "        [1., 1., 1., 1., 1., 1.],\n",
       "        [2., 2., 2., 2., 2., 2.],\n",
       "        [3., 3., 3., 3., 3., 3.],\n",
       "        [4., 4., 4., 4., 4., 4.],\n",
       "        [5., 5., 5., 5., 5., 5.],\n",
       "        [6., 6., 6., 6., 6., 6.],\n",
       "        [7., 7., 7., 7., 7., 7.],\n",
       "        [8., 8., 8., 8., 8., 8.]],\n",
       "\n",
       "       [[0., 1., 2., 3., 4., 5.],\n",
       "        [0., 1., 2., 3., 4., 5.],\n",
       "        [0., 1., 2., 3., 4., 5.],\n",
       "        [0., 1., 2., 3., 4., 5.],\n",
       "        [0., 1., 2., 3., 4., 5.],\n",
       "        [0., 1., 2., 3., 4., 5.],\n",
       "        [0., 1., 2., 3., 4., 5.],\n",
       "        [0., 1., 2., 3., 4., 5.],\n",
       "        [0., 1., 2., 3., 4., 5.]]])"
      ]
     },
     "execution_count": 52,
     "metadata": {},
     "output_type": "execute_result"
    }
   ],
   "source": [
    "mgrid[0:9.,0:6.]"
   ]
  },
  {
   "cell_type": "code",
   "execution_count": 53,
   "metadata": {},
   "outputs": [
    {
     "data": {
      "text/plain": [
       "[array([[0.],\n",
       "        [1.],\n",
       "        [2.],\n",
       "        [3.],\n",
       "        [4.],\n",
       "        [5.],\n",
       "        [6.],\n",
       "        [7.],\n",
       "        [8.]]),\n",
       " array([[0., 1., 2., 3., 4., 5.]])]"
      ]
     },
     "execution_count": 53,
     "metadata": {},
     "output_type": "execute_result"
    }
   ],
   "source": [
    "ogrid[0:9.,0:6.]"
   ]
  },
  {
   "cell_type": "code",
   "execution_count": 54,
   "metadata": {},
   "outputs": [
    {
     "data": {
      "text/plain": [
       "[array([[1, 2, 4],\n",
       "        [1, 2, 4],\n",
       "        [1, 2, 4]]),\n",
       " array([[2, 2, 2],\n",
       "        [4, 4, 4],\n",
       "        [5, 5, 5]])]"
      ]
     },
     "execution_count": 54,
     "metadata": {},
     "output_type": "execute_result"
    }
   ],
   "source": [
    "meshgrid([1,2,4],[2,4,5])"
   ]
  },
  {
   "cell_type": "code",
   "execution_count": 55,
   "metadata": {},
   "outputs": [
    {
     "data": {
      "text/plain": [
       "(array([[1],\n",
       "        [2],\n",
       "        [4]]),\n",
       " array([[2, 4, 5]]))"
      ]
     },
     "execution_count": 55,
     "metadata": {},
     "output_type": "execute_result"
    }
   ],
   "source": [
    "ix_([1,2,4],[2,4,5])"
   ]
  },
  {
   "cell_type": "code",
   "execution_count": 57,
   "metadata": {},
   "outputs": [
    {
     "data": {
      "text/plain": [
       "array([[3, 3, 3, 3],\n",
       "       [3, 3, 3, 3]])"
      ]
     },
     "execution_count": 57,
     "metadata": {},
     "output_type": "execute_result"
    }
   ],
   "source": [
    "tile(a, (1, 2))"
   ]
  },
  {
   "cell_type": "code",
   "execution_count": 58,
   "metadata": {},
   "outputs": [
    {
     "data": {
      "text/plain": [
       "array([[3, 3, 5, 6],\n",
       "       [3, 3, 7, 8]])"
      ]
     },
     "execution_count": 58,
     "metadata": {},
     "output_type": "execute_result"
    }
   ],
   "source": [
    "concatenate((a,b),1) "
   ]
  },
  {
   "cell_type": "code",
   "execution_count": 59,
   "metadata": {},
   "outputs": [
    {
     "data": {
      "text/plain": [
       "array([[3, 3],\n",
       "       [3, 3],\n",
       "       [5, 6],\n",
       "       [7, 8]])"
      ]
     },
     "execution_count": 59,
     "metadata": {},
     "output_type": "execute_result"
    }
   ],
   "source": [
    "concatenate((a,b)) "
   ]
  },
  {
   "cell_type": "code",
   "execution_count": 60,
   "metadata": {},
   "outputs": [
    {
     "data": {
      "text/plain": [
       "3"
      ]
     },
     "execution_count": 60,
     "metadata": {},
     "output_type": "execute_result"
    }
   ],
   "source": [
    "a.max()"
   ]
  },
  {
   "cell_type": "code",
   "execution_count": 61,
   "metadata": {},
   "outputs": [
    {
     "data": {
      "text/plain": [
       "array([3, 3])"
      ]
     },
     "execution_count": 61,
     "metadata": {},
     "output_type": "execute_result"
    }
   ],
   "source": [
    "a.max(0)"
   ]
  },
  {
   "cell_type": "code",
   "execution_count": 62,
   "metadata": {},
   "outputs": [
    {
     "data": {
      "text/plain": [
       "array([3, 3])"
      ]
     },
     "execution_count": 62,
     "metadata": {},
     "output_type": "execute_result"
    }
   ],
   "source": [
    "a.max(1)"
   ]
  },
  {
   "cell_type": "code",
   "execution_count": 63,
   "metadata": {},
   "outputs": [
    {
     "data": {
      "text/plain": [
       "array([[5, 6],\n",
       "       [7, 8]])"
      ]
     },
     "execution_count": 63,
     "metadata": {},
     "output_type": "execute_result"
    }
   ],
   "source": [
    "maximum(a, b)"
   ]
  },
  {
   "cell_type": "code",
   "execution_count": 64,
   "metadata": {},
   "outputs": [
    {
     "data": {
      "text/plain": [
       "array([[4.24264069, 4.24264069],\n",
       "       [4.24264069, 4.24264069]])"
      ]
     },
     "execution_count": 64,
     "metadata": {},
     "output_type": "execute_result"
    }
   ],
   "source": [
    "sqrt(a @ a)"
   ]
  },
  {
   "cell_type": "code",
   "execution_count": 65,
   "metadata": {},
   "outputs": [
    {
     "data": {
      "text/plain": [
       "array([[ True,  True],\n",
       "       [ True,  True]])"
      ]
     },
     "execution_count": 65,
     "metadata": {},
     "output_type": "execute_result"
    }
   ],
   "source": [
    "logical_and(a,b)"
   ]
  },
  {
   "cell_type": "code",
   "execution_count": 66,
   "metadata": {},
   "outputs": [
    {
     "data": {
      "text/plain": [
       "array([[ True,  True],\n",
       "       [ True,  True]])"
      ]
     },
     "execution_count": 66,
     "metadata": {},
     "output_type": "execute_result"
    }
   ],
   "source": [
    "logical_or(a,b)"
   ]
  },
  {
   "cell_type": "code",
   "execution_count": 67,
   "metadata": {},
   "outputs": [
    {
     "data": {
      "text/plain": [
       "array([[1, 2],\n",
       "       [3, 0]])"
      ]
     },
     "execution_count": 67,
     "metadata": {},
     "output_type": "execute_result"
    }
   ],
   "source": [
    "a & b"
   ]
  },
  {
   "cell_type": "code",
   "execution_count": 68,
   "metadata": {},
   "outputs": [
    {
     "data": {
      "text/plain": [
       "array([[ 7,  7],\n",
       "       [ 7, 11]])"
      ]
     },
     "execution_count": 68,
     "metadata": {},
     "output_type": "execute_result"
    }
   ],
   "source": [
    "a | b"
   ]
  },
  {
   "cell_type": "code",
   "execution_count": 70,
   "metadata": {},
   "outputs": [
    {
     "data": {
      "text/plain": [
       "array([[-2. ,  1. ],\n",
       "       [ 1.5, -0.5]])"
      ]
     },
     "execution_count": 70,
     "metadata": {},
     "output_type": "execute_result"
    }
   ],
   "source": [
    "a = array([[1,2],[3,4]])\n",
    "linalg.inv(a)"
   ]
  },
  {
   "cell_type": "code",
   "execution_count": 71,
   "metadata": {},
   "outputs": [
    {
     "data": {
      "text/plain": [
       "array([[-2. ,  1. ],\n",
       "       [ 1.5, -0.5]])"
      ]
     },
     "execution_count": 71,
     "metadata": {},
     "output_type": "execute_result"
    }
   ],
   "source": [
    "linalg.pinv(a)"
   ]
  },
  {
   "cell_type": "code",
   "execution_count": 72,
   "metadata": {},
   "outputs": [
    {
     "data": {
      "text/plain": [
       "2"
      ]
     },
     "execution_count": 72,
     "metadata": {},
     "output_type": "execute_result"
    }
   ],
   "source": [
    "linalg.matrix_rank(a)"
   ]
  },
  {
   "cell_type": "code",
   "execution_count": 73,
   "metadata": {},
   "outputs": [
    {
     "data": {
      "text/plain": [
       "array([[-3., -4.],\n",
       "       [ 4.,  5.]])"
      ]
     },
     "execution_count": 73,
     "metadata": {},
     "output_type": "execute_result"
    }
   ],
   "source": [
    "linalg.solve(a,b)"
   ]
  },
  {
   "cell_type": "code",
   "execution_count": 103,
   "metadata": {},
   "outputs": [
    {
     "name": "stdout",
     "output_type": "stream",
     "text": [
      "[[-0.71339738  0.70075972]\n",
      " [-0.70075972 -0.71339738]]\n",
      "[[-0.92806508 -0.37241806]\n",
      " [-0.37241806  0.92806508]]\n",
      "[1.09531835 0.10653957]\n",
      "[[-0.71339738 -0.70075972]\n",
      " [ 0.70075972 -0.71339738]]\n"
     ]
    }
   ],
   "source": [
    "U, S, Vh = linalg.svd(a)\n",
    "V = Vh.T\n",
    "U\n",
    "S\n",
    "Vh\n",
    "V\n",
    "print(V)\n",
    "print(U)\n",
    "print(S)\n",
    "print(Vh)"
   ]
  },
  {
   "cell_type": "code",
   "execution_count": 79,
   "metadata": {},
   "outputs": [
    {
     "data": {
      "text/plain": [
       "array([[0.83509476, 0.43144147],\n",
       "       [0.        , 0.17079799]])"
      ]
     },
     "execution_count": 79,
     "metadata": {},
     "output_type": "execute_result"
    }
   ],
   "source": [
    "a = random.rand(2,2)\n",
    "linalg.cholesky(a).T"
   ]
  },
  {
   "cell_type": "code",
   "execution_count": 83,
   "metadata": {},
   "outputs": [
    {
     "name": "stdout",
     "output_type": "stream",
     "text": [
      "[ 1.02639118 -0.11369422]\n",
      "[[ 0.91388863 -0.67431783]\n",
      " [ 0.40596499  0.73844124]]\n"
     ]
    }
   ],
   "source": [
    "D,V = linalg.eig(a)\n",
    "print(D)\n",
    "print(V)"
   ]
  },
  {
   "cell_type": "code",
   "execution_count": 82,
   "metadata": {},
   "outputs": [
    {
     "name": "stdout",
     "output_type": "stream",
     "text": [
      "[0.17266471+0.1689209j 0.17266471-0.1689209j]\n",
      "[[ 0.77450301-0.02859999j  0.77450301+0.02859999j]\n",
      " [-0.63104809-0.03324815j -0.63104809+0.03324815j]]\n"
     ]
    }
   ],
   "source": [
    "D,V = scipy.linalg.eig(a,b)\n",
    "print(D)\n",
    "print(V)"
   ]
  },
  {
   "cell_type": "code",
   "execution_count": 84,
   "metadata": {},
   "outputs": [
    {
     "name": "stdout",
     "output_type": "stream",
     "text": [
      "[[-0.88843639 -0.45899977]\n",
      " [-0.45899977  0.88843639]]\n",
      "[[-0.78495577 -0.75684635]\n",
      " [ 0.         -0.1486641 ]]\n"
     ]
    }
   ],
   "source": [
    "Q,R = scipy.linalg.qr(a)\n",
    "print(Q)\n",
    "print(R)"
   ]
  },
  {
   "cell_type": "code",
   "execution_count": 86,
   "metadata": {},
   "outputs": [
    {
     "name": "stdout",
     "output_type": "stream",
     "text": [
      "[[ 0.69738326  0.74064662]\n",
      " [ 0.51663774 -0.1673323 ]]\n",
      "[0 1]\n"
     ]
    }
   ],
   "source": [
    "LU,P=scipy.linalg.lu_factor(a)\n",
    "print(LU)\n",
    "print(P)"
   ]
  },
  {
   "cell_type": "code",
   "execution_count": 92,
   "metadata": {},
   "outputs": [
    {
     "data": {
      "text/plain": [
       "array([[ 1.43802988-0.j, -0.04326336-0.j],\n",
       "       [ 0.57560822-0.j,  0.14498082-0.j]])"
      ]
     },
     "execution_count": 92,
     "metadata": {},
     "output_type": "execute_result"
    }
   ],
   "source": [
    "from scipy import *\n",
    "scipy.fft.fft(a)"
   ]
  },
  {
   "cell_type": "code",
   "execution_count": 93,
   "metadata": {},
   "outputs": [
    {
     "data": {
      "text/plain": [
       "array([[ 0.71901494-0.j, -0.02163168-0.j],\n",
       "       [ 0.28780411-0.j,  0.07249041-0.j]])"
      ]
     },
     "execution_count": 93,
     "metadata": {},
     "output_type": "execute_result"
    }
   ],
   "source": [
    "scipy.fft.ifft(a)"
   ]
  },
  {
   "cell_type": "code",
   "execution_count": 102,
   "metadata": {},
   "outputs": [
    {
     "data": {
      "text/plain": [
       "array([[0.69738326, 0.74064662],\n",
       "       [0.2153137 , 0.36029452]])"
      ]
     },
     "execution_count": 102,
     "metadata": {},
     "output_type": "execute_result"
    }
   ],
   "source": [
    "import numpy as np\n",
    "np.sort(a)"
   ]
  },
  {
   "cell_type": "code",
   "execution_count": 101,
   "metadata": {},
   "outputs": [
    {
     "name": "stdout",
     "output_type": "stream",
     "text": [
      "[1 0]\n",
      "[[0.36029452 0.2153137 ]\n",
      " [0.69738326 0.74064662]]\n"
     ]
    }
   ],
   "source": [
    "import numpy as np\n",
    "I = np.argsort(a[:,1])\n",
    "b=a[I,:]\n",
    "print(I)\n",
    "print(b)"
   ]
  },
  {
   "cell_type": "code",
   "execution_count": 110,
   "metadata": {},
   "outputs": [
    {
     "name": "stdout",
     "output_type": "stream",
     "text": [
      "0.9999999999999999\n",
      "-0.9499999999999997\n"
     ]
    }
   ],
   "source": [
    "x = np.array([0, 1, 2, 3])\n",
    "y = np.array([-1, 0.2, 0.9, 2.1])\n",
    "A = np.vstack([x, np.ones(len(x))]).T\n",
    "m, c = np.linalg.lstsq(A, y, rcond=None)[0]\n",
    "print(m)\n",
    "print(c)"
   ]
  },
  {
   "cell_type": "code",
   "execution_count": 114,
   "metadata": {},
   "outputs": [
    {
     "data": {
      "text/plain": [
       "array([1., 2.])"
      ]
     },
     "execution_count": 114,
     "metadata": {},
     "output_type": "execute_result"
    }
   ],
   "source": [
    "from scipy import signal\n",
    "signal.resample(a, len(a))"
   ]
  },
  {
   "cell_type": "code",
   "execution_count": 116,
   "metadata": {},
   "outputs": [
    {
     "data": {
      "text/plain": [
       "array([1, 2])"
      ]
     },
     "execution_count": 116,
     "metadata": {},
     "output_type": "execute_result"
    }
   ],
   "source": [
    "import numpy as np\n",
    "np.unique(a)"
   ]
  },
  {
   "cell_type": "code",
   "execution_count": 117,
   "metadata": {},
   "outputs": [
    {
     "data": {
      "text/plain": [
       "array([1, 2])"
      ]
     },
     "execution_count": 117,
     "metadata": {},
     "output_type": "execute_result"
    }
   ],
   "source": [
    "a.squeeze()"
   ]
  },
  {
   "cell_type": "code",
   "execution_count": null,
   "metadata": {},
   "outputs": [],
   "source": []
  }
 ],
 "metadata": {
  "kernelspec": {
   "display_name": "Python 3",
   "language": "python",
   "name": "python3"
  },
  "language_info": {
   "codemirror_mode": {
    "name": "ipython",
    "version": 3
   },
   "file_extension": ".py",
   "mimetype": "text/x-python",
   "name": "python",
   "nbconvert_exporter": "python",
   "pygments_lexer": "ipython3",
   "version": "3.6.10"
  }
 },
 "nbformat": 4,
 "nbformat_minor": 4
}
